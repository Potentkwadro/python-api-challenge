{
 "cells": [
  {
   "cell_type": "markdown",
   "metadata": {},
   "source": [
    "# WeatherPy\n",
    "----\n",
    "\n",
    "#### Note\n",
    "* Instructions have been included for each segment. You do not have to follow them exactly, but they are included to help you think through the steps."
   ]
  },
  {
   "cell_type": "code",
   "execution_count": 1,
   "metadata": {
    "scrolled": true
   },
   "outputs": [],
   "source": [
    "# Dependencies and Setup\n",
    "import matplotlib.pyplot as plt\n",
    "import seaborn as sns\n",
    "import pandas as pd\n",
    "import numpy as np\n",
    "import requests\n",
    "import time\n",
    "from pprint import pprint\n",
    "from scipy import stats\n",
    "import statsmodels.api as sm\n",
    "from sklearn.linear_model import LinearRegression\n",
    "\n",
    "#regressions\n",
    "from scipy.stats import linregress\n",
    "\n",
    "# Import API key\n",
    "from api_keys import weather_api_key\n",
    "\n",
    "# Incorporated citipy to determine city based on latitude and longitude\n",
    "from citipy import citipy\n",
    "\n",
    "# Output File (CSV)\n",
    "output_data_file = \"output_data/cities.csv\"\n",
    "\n",
    "# Range of latitudes and longitudes\n",
    "lat_range = (-90, 90)\n",
    "lng_range = (-180, 180)"
   ]
  },
  {
   "cell_type": "markdown",
   "metadata": {},
   "source": [
    "## Generate Cities List"
   ]
  },
  {
   "cell_type": "code",
   "execution_count": 2,
   "metadata": {},
   "outputs": [
    {
     "data": {
      "text/plain": [
       "620"
      ]
     },
     "execution_count": 2,
     "metadata": {},
     "output_type": "execute_result"
    }
   ],
   "source": [
    "# List for holding lat_lngs and cities\n",
    "lat_lngs = []\n",
    "cities = []\n",
    "\n",
    "# Create a set of random lat and lng combinations\n",
    "lats = np.random.uniform(lat_range[0], lat_range[1], size=1500)\n",
    "lngs = np.random.uniform(lng_range[0], lng_range[1], size=1500)\n",
    "lat_lngs = zip(lats, lngs)\n",
    "\n",
    "# Identify nearest city for each lat, lng combination\n",
    "for lat_lng in lat_lngs:\n",
    "    city = citipy.nearest_city(lat_lng[0], lat_lng[1]).city_name\n",
    "    \n",
    "    # If the city is unique, then add it to a our cities list\n",
    "    if city not in cities:\n",
    "        cities.append(city)\n",
    "\n",
    "# Print the city count to confirm sufficient count\n",
    "len(cities)"
   ]
  },
  {
   "cell_type": "markdown",
   "metadata": {},
   "source": [
    "### Perform API Calls\n",
    "* Perform a weather check on each city using a series of successive API calls.\n",
    "* Include a print log of each city as it'sbeing processed (with the city number and city name).\n",
    "\n",
    "> **HINT:** The OpenWeatherMap API only allows 60 calls per minute under their free plan. Try using `time.sleep(60)` after each set of 50 cities to avoid API errors due to large calls."
   ]
  },
  {
   "cell_type": "code",
   "execution_count": 3,
   "metadata": {},
   "outputs": [
    {
     "data": {
      "text/plain": [
       "['souillac', 'khatanga', 'scarborough', 'te anau', 'berbera']"
      ]
     },
     "execution_count": 3,
     "metadata": {},
     "output_type": "execute_result"
    }
   ],
   "source": [
    "cities[0:5]"
   ]
  },
  {
   "cell_type": "code",
   "execution_count": null,
   "metadata": {},
   "outputs": [],
   "source": []
  },
  {
   "cell_type": "code",
   "execution_count": 4,
   "metadata": {},
   "outputs": [],
   "source": [
    "# Save config information.\n",
    "url = \"http://api.openweathermap.org/data/2.5/weather?\"\n",
    "units = \"imperial\""
   ]
  },
  {
   "cell_type": "code",
   "execution_count": 5,
   "metadata": {},
   "outputs": [
    {
     "name": "stdout",
     "output_type": "stream",
     "text": [
      "200\n"
     ]
    }
   ],
   "source": [
    "# Build query URL and request your results in Celsius\n",
    "city = \"khatanga\"\n",
    "query_url = f\"{url}appid={weather_api_key}&q={city}&units={units}\"\n",
    "\n",
    "# Get weather data\n",
    "weather_response = requests.get(query_url)\n",
    "print(weather_response.status_code)\n",
    "weather_json = weather_response.json()"
   ]
  },
  {
   "cell_type": "code",
   "execution_count": 6,
   "metadata": {},
   "outputs": [
    {
     "data": {
      "text/plain": [
       "dict"
      ]
     },
     "execution_count": 6,
     "metadata": {},
     "output_type": "execute_result"
    }
   ],
   "source": [
    "type(weather_json)"
   ]
  },
  {
   "cell_type": "code",
   "execution_count": 7,
   "metadata": {},
   "outputs": [
    {
     "data": {
      "text/plain": [
       "dict_keys(['coord', 'weather', 'base', 'main', 'visibility', 'wind', 'clouds', 'dt', 'sys', 'timezone', 'id', 'name', 'cod'])"
      ]
     },
     "execution_count": 7,
     "metadata": {},
     "output_type": "execute_result"
    }
   ],
   "source": [
    "weather_json.keys()"
   ]
  },
  {
   "cell_type": "code",
   "execution_count": 8,
   "metadata": {},
   "outputs": [
    {
     "name": "stdout",
     "output_type": "stream",
     "text": [
      "{'base': 'stations',\n",
      " 'clouds': {'all': 100},\n",
      " 'cod': 200,\n",
      " 'coord': {'lat': 71.9667, 'lon': 102.5},\n",
      " 'dt': 1644209916,\n",
      " 'id': 2022572,\n",
      " 'main': {'feels_like': -30.93,\n",
      "          'grnd_level': 1029,\n",
      "          'humidity': 98,\n",
      "          'pressure': 1033,\n",
      "          'sea_level': 1033,\n",
      "          'temp': -18.33,\n",
      "          'temp_max': -18.33,\n",
      "          'temp_min': -18.33},\n",
      " 'name': 'Khatanga',\n",
      " 'sys': {'country': 'RU', 'sunrise': 1644202555, 'sunset': 1644220342},\n",
      " 'timezone': 25200,\n",
      " 'visibility': 2305,\n",
      " 'weather': [{'description': 'overcast clouds',\n",
      "              'icon': '04d',\n",
      "              'id': 804,\n",
      "              'main': 'Clouds'}],\n",
      " 'wind': {'deg': 233, 'gust': 17.11, 'speed': 9.69}}\n"
     ]
    }
   ],
   "source": [
    "pprint(weather_json)"
   ]
  },
  {
   "cell_type": "code",
   "execution_count": 9,
   "metadata": {},
   "outputs": [],
   "source": [
    "lat = weather_json[\"coord\"][\"lat\"]\n",
    "lng = weather_json[\"coord\"][\"lon\"]\n",
    "country = weather_json[\"sys\"][\"country\"]\n",
    "clouds = weather_json[\"clouds\"][\"all\"]\n",
    "\n",
    "date_dt = weather_json[\"dt\"]\n",
    "city_name = weather_json[\"name\"]\n",
    "wind = weather_json[\"wind\"][\"speed\"]\n",
    "\n",
    "temp = weather_json[\"main\"][\"temp\"]\n",
    "pressure = weather_json[\"main\"][\"pressure\"]\n",
    "humidity = weather_json[\"main\"][\"humidity\"]"
   ]
  },
  {
   "cell_type": "code",
   "execution_count": 10,
   "metadata": {},
   "outputs": [
    {
     "data": {
      "text/plain": [
       "98"
      ]
     },
     "execution_count": 10,
     "metadata": {},
     "output_type": "execute_result"
    }
   ],
   "source": [
    "humidity"
   ]
  },
  {
   "cell_type": "code",
   "execution_count": 11,
   "metadata": {},
   "outputs": [
    {
     "data": {
      "text/plain": [
       "['tala',\n",
       " 'goderich',\n",
       " 'sao domingos',\n",
       " 'esna',\n",
       " 'samfya',\n",
       " 'ust-uda',\n",
       " 'shahr-e babak',\n",
       " 'campbeltown',\n",
       " 'bardiyah',\n",
       " 'buala']"
      ]
     },
     "execution_count": 11,
     "metadata": {},
     "output_type": "execute_result"
    }
   ],
   "source": [
    "cities[-10:]"
   ]
  },
  {
   "cell_type": "code",
   "execution_count": 12,
   "metadata": {},
   "outputs": [
    {
     "data": {
      "text/plain": [
       "10.833333333333334"
      ]
     },
     "execution_count": 12,
     "metadata": {},
     "output_type": "execute_result"
    }
   ],
   "source": [
    "650/60"
   ]
  },
  {
   "cell_type": "code",
   "execution_count": null,
   "metadata": {},
   "outputs": [],
   "source": []
  },
  {
   "cell_type": "code",
   "execution_count": null,
   "metadata": {
    "scrolled": false
   },
   "outputs": [
    {
     "name": "stdout",
     "output_type": "stream",
     "text": [
      "souillac\n",
      "200\n",
      "\n",
      "khatanga\n",
      "200\n",
      "\n",
      "scarborough\n",
      "200\n",
      "\n",
      "te anau\n",
      "200\n",
      "\n",
      "berbera\n",
      "200\n",
      "\n",
      "ancud\n",
      "200\n",
      "\n",
      "piranhas\n",
      "200\n",
      "\n",
      "tasiilaq\n",
      "200\n",
      "\n",
      "columbus\n",
      "200\n",
      "\n",
      "roma\n",
      "200\n",
      "\n",
      "fernie\n",
      "200\n",
      "\n",
      "progreso\n",
      "200\n",
      "\n",
      "port alfred\n",
      "200\n",
      "\n",
      "vostok\n",
      "200\n",
      "\n",
      "sohbatpur\n",
      "200\n",
      "\n",
      "hermanus\n",
      "200\n",
      "\n",
      "kalabo\n",
      "200\n",
      "\n",
      "jamestown\n",
      "200\n",
      "\n",
      "atuona\n",
      "200\n",
      "\n",
      "beringovskiy\n",
      "200\n",
      "\n",
      "caucaia\n",
      "200\n",
      "\n",
      "busselton\n",
      "200\n",
      "\n",
      "namibe\n",
      "200\n",
      "\n",
      "lompoc\n",
      "200\n",
      "\n",
      "ushuaia\n",
      "200\n",
      "\n",
      "adamas\n",
      "200\n",
      "\n",
      "hofn\n",
      "200\n",
      "\n",
      "muros\n",
      "200\n",
      "\n",
      "vaini\n",
      "200\n",
      "\n",
      "mataura\n",
      "200\n",
      "\n",
      "byron bay\n",
      "200\n",
      "\n",
      "tuktoyaktuk\n",
      "200\n",
      "\n",
      "punta arenas\n",
      "200\n",
      "\n",
      "dikson\n",
      "200\n",
      "\n",
      "rikitea\n",
      "200\n",
      "\n",
      "bisho\n",
      "200\n",
      "\n",
      "nikolskoye\n",
      "200\n",
      "\n",
      "barentsburg\n",
      "404\n",
      "\n",
      "nuuk\n",
      "200\n",
      "\n",
      "amderma\n",
      "404\n",
      "\n",
      "laguna\n",
      "200\n",
      "\n",
      "albany\n",
      "200\n",
      "\n",
      "turtas\n",
      "200\n",
      "\n",
      "sao joao da barra\n",
      "200\n",
      "\n",
      "aksha\n",
      "200\n",
      "\n",
      "thompson\n",
      "200\n",
      "\n",
      "mbour\n",
      "200\n",
      "\n",
      "savannah bight\n",
      "200\n",
      "\n",
      "cape town\n",
      "200\n",
      "\n",
      "waddan\n",
      "200\n",
      "\n",
      "kapaa\n",
      "200\n",
      "\n",
      "yumen\n",
      "200\n",
      "\n",
      "salalah\n",
      "200\n",
      "\n",
      "nouadhibou\n",
      "200\n",
      "\n",
      "sao luis de montes belos\n",
      "200\n",
      "\n",
      "taoudenni\n",
      "200\n",
      "\n",
      "faanui\n",
      "200\n",
      "\n",
      "bluff\n",
      "200\n",
      "\n",
      "ribeira grande\n",
      "200\n",
      "\n",
      "belushya guba\n",
      "404\n",
      "\n",
      "chipinge\n",
      "200\n",
      "\n",
      "rio grande\n",
      "200\n",
      "\n",
      "lorengau\n",
      "200\n",
      "\n",
      "raichur\n",
      "200\n",
      "\n",
      "ilulissat\n",
      "200\n",
      "\n",
      "barrow\n",
      "200\n",
      "\n",
      "quelimane\n",
      "200\n",
      "\n",
      "sulangan\n",
      "200\n",
      "\n",
      "qaanaaq\n",
      "200\n",
      "\n",
      "carnarvon\n",
      "200\n",
      "\n",
      "keetmanshoop\n",
      "200\n",
      "\n",
      "salamiyah\n",
      "200\n",
      "\n",
      "lavrentiya\n",
      "200\n",
      "\n",
      "padre bernardo\n",
      "200\n",
      "\n",
      "port macquarie\n",
      "200\n",
      "\n",
      "talcahuano\n",
      "200\n",
      "\n",
      "vardo\n",
      "200\n",
      "\n",
      "taolanaro\n",
      "404\n",
      "\n",
      "longyearbyen\n",
      "200\n",
      "\n",
      "ponta do sol\n",
      "200\n",
      "\n",
      "airai\n",
      "200\n",
      "\n",
      "mecca\n",
      "200\n",
      "\n",
      "puerto escondido\n",
      "200\n",
      "\n",
      "castro\n",
      "200\n",
      "\n",
      "oyama\n",
      "200\n",
      "\n",
      "ayorou\n",
      "200\n",
      "\n",
      "rocha\n",
      "200\n",
      "\n",
      "esperance\n",
      "200\n",
      "\n",
      "mar del plata\n",
      "200\n",
      "\n",
      "minnedosa\n",
      "200\n",
      "\n",
      "saint-philippe\n",
      "200\n",
      "\n",
      "riverton\n",
      "200\n",
      "\n",
      "simao\n",
      "200\n",
      "\n",
      "collierville\n",
      "200\n",
      "\n",
      "narsaq\n",
      "200\n",
      "\n",
      "mahebourg\n",
      "200\n",
      "\n",
      "mys shmidta\n",
      "404\n",
      "\n",
      "hualmay\n",
      "200\n",
      "\n",
      "evensk\n",
      "200\n",
      "\n",
      "emba\n",
      "200\n",
      "\n",
      "palmer\n",
      "200\n",
      "\n",
      "alta floresta\n",
      "200\n",
      "\n",
      "muisne\n",
      "200\n",
      "\n",
      "hobart\n",
      "200\n",
      "\n",
      "jardim\n",
      "200\n",
      "\n",
      "qiongshan\n",
      "200\n",
      "\n",
      "srednekolymsk\n",
      "200\n",
      "\n",
      "kibondo\n",
      "200\n",
      "\n",
      "sinnamary\n",
      "200\n",
      "\n",
      "sattenapalle\n",
      "200\n",
      "\n",
      "abha\n",
      "200\n",
      "\n",
      "kahului\n",
      "200\n",
      "\n",
      "kodiak\n",
      "200\n",
      "\n",
      "arbuzynka\n",
      "200\n",
      "\n",
      "sayyan\n",
      "200\n",
      "\n",
      "tsihombe\n",
      "404\n",
      "\n",
      "cururupu\n",
      "200\n",
      "\n",
      "avarua\n",
      "200\n",
      "\n",
      "coihaique\n",
      "200\n",
      "\n",
      "nalut\n",
      "200\n",
      "\n",
      "wattegama\n",
      "200\n",
      "\n",
      "matameye\n",
      "404\n",
      "\n",
      "tarragona\n",
      "200\n",
      "\n",
      "fort nelson\n",
      "200\n",
      "\n",
      "margate\n",
      "200\n",
      "\n",
      "rio cuarto\n",
      "200\n",
      "\n",
      "san patricio\n",
      "200\n",
      "\n",
      "saint george\n",
      "200\n",
      "\n",
      "yerbogachen\n",
      "200\n",
      "\n",
      "bengkulu\n",
      "200\n",
      "\n",
      "verkhnevilyuysk\n",
      "200\n",
      "\n",
      "nizhniy kuranakh\n",
      "200\n",
      "\n",
      "aksu\n",
      "200\n",
      "\n",
      "walvis bay\n",
      "200\n",
      "\n",
      "gumdag\n",
      "200\n",
      "\n",
      "olafsvik\n",
      "200\n",
      "\n",
      "lasa\n",
      "200\n",
      "\n",
      "port-cartier\n",
      "200\n",
      "\n",
      "derzhavinsk\n",
      "200\n",
      "\n",
      "grand gaube\n"
     ]
    }
   ],
   "source": [
    "lats = []\n",
    "lngs = []\n",
    "countries = []\n",
    "clouds = []\n",
    "dates = []\n",
    "names = []\n",
    "winds = []\n",
    "temps = []\n",
    "pressures = []\n",
    "humids = []\n",
    "\n",
    "for city in cities[0:500]:\n",
    "    #make the request\n",
    "    print(city)\n",
    "    # Build query URL and request your results in Celsius\n",
    "    query_url = f\"{url}appid={weather_api_key}&q={city}&units={units}\"\n",
    "\n",
    "    # Get weather data\n",
    "    weather_response = requests.get(query_url)\n",
    "    print(weather_response.status_code)\n",
    "    print()\n",
    "    \n",
    "    if(weather_response.status_code == 200):\n",
    "    \n",
    "        # get data\n",
    "        weather_json = weather_response.json()\n",
    "\n",
    "        # parse the data\n",
    "        lat = weather_json[\"coord\"][\"lat\"]\n",
    "        lng = weather_json[\"coord\"][\"lon\"]\n",
    "        country = weather_json[\"sys\"][\"country\"]\n",
    "        cloudiness = weather_json[\"clouds\"][\"all\"]\n",
    "\n",
    "        date_dt = weather_json[\"dt\"]\n",
    "        city_name = weather_json[\"name\"]\n",
    "        wind = weather_json[\"wind\"][\"speed\"]\n",
    "\n",
    "        temp = weather_json[\"main\"][\"temp\"]\n",
    "        pressure = weather_json[\"main\"][\"pressure\"]\n",
    "        humidity = weather_json[\"main\"][\"humidity\"]\n",
    "        #slap into lists\n",
    "        lats.append(lat)\n",
    "        lngs.append(lng)\n",
    "        countries.append(country)\n",
    "        clouds.append(cloudiness)\n",
    "        dates.append(date_dt)\n",
    "        names.append(city_name)\n",
    "        winds.append(wind)\n",
    "        temps.append(temp)\n",
    "        pressures.append(pressure)\n",
    "        humids.append(humidity)"
   ]
  },
  {
   "cell_type": "code",
   "execution_count": null,
   "metadata": {},
   "outputs": [],
   "source": [
    " df = pd.DataFrame()\n",
    "\n",
    "df[\"City\"] = names\n",
    "df[\"Country\"] = countries\n",
    "df[\"Latitude\"] = lats\n",
    "df[\"Longitude\"] = lngs\n",
    "df[\"Date\"] = dates\n",
    "df[\"Wind_Speed\"] = winds\n",
    "df[\"Pressure\"] = pressures\n",
    "df[\"Humidity\"] = humids\n",
    "df[\"Temperature\"] = temps\n",
    "df[\"Cloudiness\"] = clouds\n",
    "\n",
    "df.head(190)"
   ]
  },
  {
   "cell_type": "code",
   "execution_count": null,
   "metadata": {},
   "outputs": [],
   "source": [
    "weather_df.info()"
   ]
  },
  {
   "cell_type": "code",
   "execution_count": null,
   "metadata": {},
   "outputs": [],
   "source": [
    "weather_df.to_csv(\"my_data.csv\", index=False)"
   ]
  },
  {
   "cell_type": "code",
   "execution_count": null,
   "metadata": {},
   "outputs": [],
   "source": []
  },
  {
   "cell_type": "code",
   "execution_count": null,
   "metadata": {},
   "outputs": [],
   "source": []
  },
  {
   "cell_type": "code",
   "execution_count": null,
   "metadata": {
    "scrolled": true
   },
   "outputs": [],
   "source": []
  },
  {
   "cell_type": "markdown",
   "metadata": {},
   "source": [
    "### Convert Raw Data to DataFrame\n",
    "* Export the city data into a .csv.\n",
    "* Display the DataFrame"
   ]
  },
  {
   "cell_type": "code",
   "execution_count": null,
   "metadata": {},
   "outputs": [],
   "source": []
  },
  {
   "cell_type": "code",
   "execution_count": null,
   "metadata": {},
   "outputs": [],
   "source": []
  },
  {
   "cell_type": "markdown",
   "metadata": {},
   "source": [
    "## Inspect the data and remove the cities where the humidity > 100%.\n",
    "----\n",
    "Skip this step if there are no cities that have humidity > 100%. "
   ]
  },
  {
   "cell_type": "code",
   "execution_count": null,
   "metadata": {},
   "outputs": [],
   "source": []
  },
  {
   "cell_type": "code",
   "execution_count": null,
   "metadata": {},
   "outputs": [],
   "source": [
    "#  Get the indices of cities that have humidity over 100%.\n"
   ]
  },
  {
   "cell_type": "code",
   "execution_count": null,
   "metadata": {},
   "outputs": [],
   "source": [
    "# Make a new DataFrame equal to the city data to drop all humidity outliers by index.\n",
    "# Passing \"inplace=False\" will make a copy of the city_data DataFrame, which we call \"clean_city_data\".\n"
   ]
  },
  {
   "cell_type": "code",
   "execution_count": null,
   "metadata": {},
   "outputs": [],
   "source": [
    "\n"
   ]
  },
  {
   "cell_type": "markdown",
   "metadata": {},
   "source": [
    "## Plotting the Data\n",
    "* Use proper labeling of the plots using plot titles (including date of analysis) and axes labels.\n",
    "* Save the plotted figures as .pngs."
   ]
  },
  {
   "cell_type": "markdown",
   "metadata": {},
   "source": [
    "## Latitude vs. Temperature Plot"
   ]
  },
  {
   "cell_type": "code",
   "execution_count": null,
   "metadata": {
    "scrolled": true
   },
   "outputs": [],
   "source": []
  },
  {
   "cell_type": "code",
   "execution_count": null,
   "metadata": {},
   "outputs": [],
   "source": [
    "weather_df.info()"
   ]
  },
  {
   "cell_type": "code",
   "execution_count": null,
   "metadata": {},
   "outputs": [],
   "source": [
    "weather_df.describe()"
   ]
  },
  {
   "cell_type": "code",
   "execution_count": null,
   "metadata": {},
   "outputs": [],
   "source": [
    "mask = weather_df.humidity <= 100\n",
    "weather_df_sub = weather_df.loc[mask].dropna().reset_index(drop=True)"
   ]
  },
  {
   "cell_type": "code",
   "execution_count": null,
   "metadata": {},
   "outputs": [],
   "source": [
    "weather_df.info()"
   ]
  },
  {
   "cell_type": "code",
   "execution_count": null,
   "metadata": {},
   "outputs": [],
   "source": []
  },
  {
   "cell_type": "code",
   "execution_count": null,
   "metadata": {},
   "outputs": [],
   "source": [
    "x_values = weather_df[\"latitude\"]\n",
    "y_values = weather_df[\"temperature\"]\n",
    "\n",
    "plt.scatter(x_values,y_values)\n",
    "plt.title('Temperature vs Latitude')\n",
    "plt.xlabel('Latitude')\n",
    "plt.ylabel('Temperature (F)')\n",
    "plt.savefig(\"temp_lat_asante.png\")\n",
    "plt.tight_layout()\n",
    "plt.show()"
   ]
  },
  {
   "cell_type": "code",
   "execution_count": null,
   "metadata": {},
   "outputs": [],
   "source": []
  },
  {
   "cell_type": "code",
   "execution_count": null,
   "metadata": {},
   "outputs": [],
   "source": []
  },
  {
   "cell_type": "markdown",
   "metadata": {},
   "source": [
    "## Latitude vs. Humidity Plot"
   ]
  },
  {
   "cell_type": "code",
   "execution_count": null,
   "metadata": {},
   "outputs": [],
   "source": []
  },
  {
   "cell_type": "code",
   "execution_count": null,
   "metadata": {},
   "outputs": [],
   "source": [
    "x_values = weather_df[\"latitude\"]\n",
    "y_values = weather_df[\"humidity\"]\n",
    "\n",
    "plt.scatter(x_values,y_values)\n",
    "plt.title('Humidity vs Latitude')\n",
    "plt.xlabel('Latitude')\n",
    "plt.ylabel('humidity (%)')\n",
    "plt.savefig(\"humid_lat_asante.png\")\n",
    "plt.tight_layout()\n",
    "plt.show()"
   ]
  },
  {
   "cell_type": "code",
   "execution_count": null,
   "metadata": {},
   "outputs": [],
   "source": []
  },
  {
   "cell_type": "code",
   "execution_count": null,
   "metadata": {},
   "outputs": [],
   "source": []
  },
  {
   "cell_type": "markdown",
   "metadata": {},
   "source": [
    "## Latitude vs. Cloudiness Plot"
   ]
  },
  {
   "cell_type": "code",
   "execution_count": null,
   "metadata": {},
   "outputs": [],
   "source": []
  },
  {
   "cell_type": "code",
   "execution_count": null,
   "metadata": {},
   "outputs": [],
   "source": [
    "x_values = weather_df[\"latitude\"]\n",
    "y_values = weather_df[\"clouds\"]\n",
    "\n",
    "plt.scatter(x_values,y_values)\n",
    "plt.title('Latitude vs. Cloudiness')\n",
    "plt.xlabel('Latitude')\n",
    "plt.ylabel('Cloudiness (%)')\n",
    "plt.savefig(\"cloud_lat_asante.png\")\n",
    "plt.tight_layout()\n",
    "plt.show()"
   ]
  },
  {
   "cell_type": "code",
   "execution_count": null,
   "metadata": {},
   "outputs": [],
   "source": []
  },
  {
   "cell_type": "code",
   "execution_count": null,
   "metadata": {},
   "outputs": [],
   "source": []
  },
  {
   "cell_type": "markdown",
   "metadata": {},
   "source": [
    "## Latitude vs. Wind Speed Plot"
   ]
  },
  {
   "cell_type": "code",
   "execution_count": null,
   "metadata": {},
   "outputs": [],
   "source": []
  },
  {
   "cell_type": "code",
   "execution_count": null,
   "metadata": {},
   "outputs": [],
   "source": [
    "x_values = weather_df[\"latitude\"]\n",
    "y_values = weather_df[\"wind_speed\"]\n",
    "\n",
    "plt.scatter(x_values,y_values)\n",
    "plt.title('Latitude vs. Wind Speed')\n",
    "plt.xlabel('Latitude')\n",
    "plt.ylabel('Wind Speed (mph)')\n",
    "plt.savefig(\"wind_lat_asante.png\")\n",
    "plt.tight_layout()\n",
    "plt.show()"
   ]
  },
  {
   "cell_type": "code",
   "execution_count": null,
   "metadata": {},
   "outputs": [],
   "source": []
  },
  {
   "cell_type": "markdown",
   "metadata": {},
   "source": [
    "## Linear Regression"
   ]
  },
  {
   "cell_type": "code",
   "execution_count": null,
   "metadata": {},
   "outputs": [],
   "source": [
    "# OPTIONAL: Create a function to create Linear Regression plots\n",
    "# def linear_regression(x_values, y_values):\n",
    "#     (slope, intercept, rvalue, pvalue, stderr) = st.linregress(x_values, y_values)\n",
    "#     regress_values = x_values * slope + intercept\n",
    "#     line_eq = \"y = \" + str(round(slope,2)) + \"x + \" + str(round(intercept,2))\n",
    "#     correlation = st.pearsonr(x_values, y_values)\n",
    "    \n",
    "#     print(f\"r-squared: {rvalue**2}\")\n",
    "#     print(f\"Correlation: {correlation}\")\n",
    "#     print(f\"Line: {line_eq}\")\n",
    "\n",
    "#     return regress_values, line_eq"
   ]
  },
  {
   "cell_type": "code",
   "execution_count": null,
   "metadata": {},
   "outputs": [],
   "source": [
    "# Create Northern and Southern Hemisphere DataFrames\n",
    "#mask = weather_df['latitude'] > 0\n",
    "#northern_hemisphere = weather_df[mask]\n",
    "#southern_hemisphere = weather_df[~mask]"
   ]
  },
  {
   "cell_type": "code",
   "execution_count": null,
   "metadata": {},
   "outputs": [],
   "source": []
  },
  {
   "cell_type": "code",
   "execution_count": null,
   "metadata": {},
   "outputs": [],
   "source": [
    "df_north = weather_df_sub.loc[weather_df_sub.latitude >= 0]\n",
    "df_south = weather_df_sub.loc[weather_df_sub.latitude < 0] "
   ]
  },
  {
   "cell_type": "markdown",
   "metadata": {},
   "source": [
    "####  Northern Hemisphere - Max Temp vs. Latitude Linear Regression"
   ]
  },
  {
   "cell_type": "code",
   "execution_count": null,
   "metadata": {},
   "outputs": [],
   "source": []
  },
  {
   "cell_type": "code",
   "execution_count": null,
   "metadata": {},
   "outputs": [],
   "source": [
    "x_values = df_north['latitude']\n",
    "y_values = df_north['temperature']\n",
    "\n",
    "\n",
    "(slope, intercept, rvalue, pvalue, stderr) = stats.linregress(x_values, y_values)\n",
    "regress_values = x_values * slope + intercept\n",
    "line_eq = \"y = \" + str(round(slope,2)) + \"x + \" + str(round(intercept,2))\n",
    "\n",
    "\n",
    "plt.scatter(x_values,y_values)\n",
    "plt.title('Max Temp vs. Latitude Linear Regression (Northern Hemisphere)')\n",
    "plt.plot(x_values,regress_values,\"r-\")\n",
    "plt.annotate(line_eq,(10,20),fontsize=12,color=\"red\")\n",
    "plt.xlabel('Latitude')\n",
    "plt.ylabel('Temperature (F)')\n",
    "print(f\"The r-squared is: {rvalue**2}\")\n",
    "plt.show()"
   ]
  },
  {
   "cell_type": "code",
   "execution_count": null,
   "metadata": {},
   "outputs": [],
   "source": [
    "feature = weather_df_north[[\"latitude\"]]\n",
    "target = weather_df_north[\"temperature\"]\n",
    "\n",
    "# STATSMODELS\n",
    "X = sm.add_constant(feature)\n",
    "Y = target\n",
    "\n",
    "model = sm.OLS(Y,X)\n",
    "results = model.fit()\n",
    "results.summary()"
   ]
  },
  {
   "cell_type": "code",
   "execution_count": null,
   "metadata": {},
   "outputs": [],
   "source": [
    "reg = LinearRegression()\n",
    "reg.fit(np.array(feature), np.array(target))\n",
    "print(reg.coef_)\n",
    "print(reg.intercept_)"
   ]
  },
  {
   "cell_type": "code",
   "execution_count": null,
   "metadata": {},
   "outputs": [],
   "source": [
    "from sklearn.metrics import r2_score, mean_squared_error, mean_absolute_error "
   ]
  },
  {
   "cell_type": "code",
   "execution_count": null,
   "metadata": {},
   "outputs": [],
   "source": [
    "actual = weather_df_north[\"temperature\"]\n",
    "predictions = reg.predict(weather_df_north[\"latitude\"].values.reshape(-1, 1))\n",
    "\n",
    "r2 = r2_score(actual, predictions)\n",
    "mse = mean_squared_error(actual, predictions)\n",
    "mae = mean_absolute_error(actual, predictions)\n",
    "\n",
    "print(f\"R2: {r2}\")\n",
    "print(f\"MSE: {mse}\")\n",
    "print(f\"RMSE: {np.sqrt(mse)}\")\n",
    "print(f\"MAE: {mae}\")"
   ]
  },
  {
   "cell_type": "code",
   "execution_count": null,
   "metadata": {},
   "outputs": [],
   "source": [
    "plt.figure(figsize=(10,6))\n",
    "\n",
    "plt.scatter(predictions, actual)\n",
    "plt.plot(actual, actual)\n",
    "\n",
    "plt.xlabel(\"Predicted\")\n",
    "plt.ylabel(\"Actual\")\n",
    "\n",
    "plt.show()"
   ]
  },
  {
   "cell_type": "code",
   "execution_count": null,
   "metadata": {},
   "outputs": [],
   "source": [
    "residuals = predictions - actual\n",
    "\n",
    "plt.figure(figsize=(10,6))\n",
    "\n",
    "plt.scatter(predictions, residuals)\n",
    "plt.hlines(0, -10, 85)\n",
    "\n",
    "plt.xlabel(\"Predicted\")\n",
    "plt.ylabel(\"Residuals\")\n",
    "\n",
    "plt.show()"
   ]
  },
  {
   "cell_type": "code",
   "execution_count": null,
   "metadata": {},
   "outputs": [],
   "source": []
  },
  {
   "cell_type": "code",
   "execution_count": null,
   "metadata": {},
   "outputs": [],
   "source": []
  },
  {
   "cell_type": "markdown",
   "metadata": {},
   "source": [
    "####  Southern Hemisphere - Max Temp vs. Latitude Linear Regression"
   ]
  },
  {
   "cell_type": "code",
   "execution_count": null,
   "metadata": {},
   "outputs": [],
   "source": [
    "\n"
   ]
  },
  {
   "cell_type": "code",
   "execution_count": null,
   "metadata": {},
   "outputs": [],
   "source": [
    "x_values = df_south[\"latitude\"]\n",
    "y_values = df_south[\"temperature\"]\n",
    "\n",
    "(slope, intercept, rvalue, pvalue, stderr) = stats.linregress(x_values, y_values)\n",
    "regress_values = x_values * slope + intercept\n",
    "line_eq = \"y = \" + str(round(slope,2)) + \"x + \" + str(round(intercept,2))\n",
    "\n",
    "plt.scatter(x_values,y_values)\n",
    "plt.title('Max Temp vs. Latitude Linear Regression (Southern Hemisphere)')\n",
    "plt.plot(x_values,regress_values,\"r-\")\n",
    "plt.annotate(line_eq,(-35,80),fontsize=12,color=\"red\")\n",
    "plt.xlabel('Latitude')\n",
    "plt.ylabel('Temperature (F)')\n",
    "print(f\"The r-squared is: {rvalue**2}\")\n",
    "plt.show()"
   ]
  },
  {
   "cell_type": "code",
   "execution_count": null,
   "metadata": {},
   "outputs": [],
   "source": []
  },
  {
   "cell_type": "markdown",
   "metadata": {},
   "source": [
    "####  Northern Hemisphere - Humidity (%) vs. Latitude Linear Regression"
   ]
  },
  {
   "cell_type": "code",
   "execution_count": null,
   "metadata": {},
   "outputs": [],
   "source": []
  },
  {
   "cell_type": "code",
   "execution_count": null,
   "metadata": {},
   "outputs": [],
   "source": [
    "x_values = df_north[\"latitude\"]\n",
    "y_values = df_north[\"humidity\"]\n",
    "\n",
    "(slope, intercept, rvalue, pvalue, stderr) = linregress(x_values, y_values)\n",
    "regress_values = x_values * slope + intercept\n",
    "line_eq = \"y = \" + str(round(slope,2)) + \"x + \" + str(round(intercept,2))\n",
    "\n",
    "\n",
    "plt.scatter(x_values,y_values)\n",
    "plt.title('Humidity at Latitude Positions (Northern Hemisphere)')\n",
    "plt.plot(x_values,regress_values,\"r-\")\n",
    "plt.annotate(line_eq,(50,20),fontsize=12,color=\"red\")\n",
    "plt.xlabel('Latitude')\n",
    "plt.ylabel('Humidity (%)')\n",
    "print(f\"The r-squared is: {rvalue**2}\")\n",
    "plt.tight_layout()\n",
    "plt.show()"
   ]
  },
  {
   "cell_type": "code",
   "execution_count": null,
   "metadata": {},
   "outputs": [],
   "source": []
  },
  {
   "cell_type": "code",
   "execution_count": null,
   "metadata": {},
   "outputs": [],
   "source": []
  },
  {
   "cell_type": "markdown",
   "metadata": {},
   "source": [
    "####  Southern Hemisphere - Humidity (%) vs. Latitude Linear Regression"
   ]
  },
  {
   "cell_type": "code",
   "execution_count": null,
   "metadata": {},
   "outputs": [],
   "source": []
  },
  {
   "cell_type": "code",
   "execution_count": null,
   "metadata": {},
   "outputs": [],
   "source": [
    "x_values = df_south[\"latitude\"]\n",
    "y_values = df_south[\"humidity\"]\n",
    "\n",
    "(slope, intercept, rvalue, pvalue, stderr) = linregress(x_values, y_values)\n",
    "regress_values = x_values * slope + intercept\n",
    "line_eq = \"y = \" + str(round(slope,2)) + \"x + \" + str(round(intercept,2))\n",
    "\n",
    "plt.scatter(x_values,y_values)\n",
    "plt.title('Humidity at Latitude Positions (Southern Hemisphere)')\n",
    "plt.plot(x_values,regress_values,\"r-\")\n",
    "plt.annotate(line_eq,(-35,80),fontsize=12,color=\"red\")\n",
    "plt.xlabel('Latitude')\n",
    "plt.ylabel('Humidity (%)')\n",
    "print(f\"The r-squared is: {rvalue**2}\")\n",
    "plt.tight_layout()\n",
    "plt.show()"
   ]
  },
  {
   "cell_type": "code",
   "execution_count": null,
   "metadata": {},
   "outputs": [],
   "source": []
  },
  {
   "cell_type": "markdown",
   "metadata": {},
   "source": [
    "####  Northern Hemisphere - Cloudiness (%) vs. Latitude Linear Regression"
   ]
  },
  {
   "cell_type": "code",
   "execution_count": null,
   "metadata": {},
   "outputs": [],
   "source": []
  },
  {
   "cell_type": "code",
   "execution_count": null,
   "metadata": {},
   "outputs": [],
   "source": [
    "x_values = df_north[\"latitude\"]\n",
    "y_values = df_north[\"clouds\"]\n",
    "\n",
    "(slope, intercept, rvalue, pvalue, stderr) = linregress(x_values, y_values)\n",
    "regress_values = x_values * slope + intercept\n",
    "line_eq = \"y = \" + str(round(slope,2)) + \"x + \" + str(round(intercept,2))\n",
    "\n",
    "plt.scatter(x_values,y_values)\n",
    "plt.title('Cloudiness at Latitude Positions (Northern Hemisphere)')\n",
    "plt.plot(x_values,regress_values,\"r-\")\n",
    "plt.annotate(line_eq,(50,20),fontsize=12,color=\"red\")\n",
    "plt.xlabel('Latitude')\n",
    "plt.ylabel('Cloudiness (%)')\n",
    "print(f\"The r-squared is: {rvalue**2}\")\n",
    "plt.tight_layout()\n",
    "plt.show()"
   ]
  },
  {
   "cell_type": "code",
   "execution_count": null,
   "metadata": {},
   "outputs": [],
   "source": []
  },
  {
   "cell_type": "markdown",
   "metadata": {},
   "source": [
    "####  Southern Hemisphere - Cloudiness (%) vs. Latitude Linear Regression"
   ]
  },
  {
   "cell_type": "code",
   "execution_count": null,
   "metadata": {},
   "outputs": [],
   "source": []
  },
  {
   "cell_type": "code",
   "execution_count": null,
   "metadata": {},
   "outputs": [],
   "source": [
    "x_values = df_south[\"latitude\"]\n",
    "y_values = df_south[\"clouds\"]\n",
    "\n",
    "(slope, intercept, rvalue, pvalue, stderr) = linregress(x_values, y_values)\n",
    "regress_values = x_values * slope + intercept\n",
    "line_eq = \"y = \" + str(round(slope,2)) + \"x + \" + str(round(intercept,2))\n",
    "\n",
    "\n",
    "plt.scatter(x_values,y_values)\n",
    "plt.title('Cloudiness at Latitude Positions (Southern Hemisphere)')\n",
    "plt.plot(x_values,regress_values,\"r-\")\n",
    "plt.annotate(line_eq,(-30,60),fontsize=12,color=\"red\")\n",
    "plt.xlabel('Latitude')\n",
    "plt.ylabel('Cloudiness (%)')\n",
    "print(f\"The r-squared is: {rvalue**2}\")\n",
    "plt.tight_layout()\n",
    "plt.show()"
   ]
  },
  {
   "cell_type": "code",
   "execution_count": null,
   "metadata": {},
   "outputs": [],
   "source": []
  },
  {
   "cell_type": "code",
   "execution_count": null,
   "metadata": {},
   "outputs": [],
   "source": []
  },
  {
   "cell_type": "markdown",
   "metadata": {},
   "source": [
    "####  Northern Hemisphere - Wind Speed (mph) vs. Latitude Linear Regression"
   ]
  },
  {
   "cell_type": "code",
   "execution_count": null,
   "metadata": {},
   "outputs": [],
   "source": [
    "x_values = df_north[\"latitude\"]\n",
    "y_values = df_north[\"wind_speed\"]\n",
    "\n",
    "(slope, intercept, rvalue, pvalue, stderr) = linregress(x_values, y_values)\n",
    "regress_values = x_values * slope + intercept\n",
    "line_eq = \"y = \" + str(round(slope,2)) + \"x + \" + str(round(intercept,2))\n",
    "\n",
    "plt.scatter(x_values,y_values)\n",
    "plt.title('Wind Speed at Latitude Positions (Northern Hemisphere)')\n",
    "plt.plot(x_values,regress_values,\"r-\")\n",
    "plt.annotate(line_eq,(50,20),fontsize=12,color=\"red\")\n",
    "plt.xlabel('Latitude')\n",
    "plt.ylabel('Wind Speed (mph)')\n",
    "print(f\"The r-squared is: {rvalue**2}\")\n",
    "plt.tight_layout()\n",
    "plt.show()"
   ]
  },
  {
   "cell_type": "code",
   "execution_count": null,
   "metadata": {},
   "outputs": [],
   "source": []
  },
  {
   "cell_type": "code",
   "execution_count": null,
   "metadata": {},
   "outputs": [],
   "source": []
  },
  {
   "cell_type": "markdown",
   "metadata": {},
   "source": [
    "####  Southern Hemisphere - Wind Speed (mph) vs. Latitude Linear Regression"
   ]
  },
  {
   "cell_type": "code",
   "execution_count": null,
   "metadata": {},
   "outputs": [],
   "source": []
  },
  {
   "cell_type": "code",
   "execution_count": null,
   "metadata": {},
   "outputs": [],
   "source": [
    "x_values = df_south[\"latitude\"]\n",
    "y_values = df_south[\"wind_speed\"]\n",
    "\n",
    "(slope, intercept, rvalue, pvalue, stderr) = linregress(x_values, y_values)\n",
    "regress_values = x_values * slope + intercept\n",
    "line_eq = \"y = \" + str(round(slope,2)) + \"x + \" + str(round(intercept,2))\n",
    "\n",
    "\n",
    "plt.scatter(x_values,y_values)\n",
    "plt.title('Wind Speed at Latitude Positions (Southern Hemisphere)')\n",
    "plt.plot(x_values,regress_values,\"r-\")\n",
    "plt.annotate(line_eq,(-30,20),fontsize=12,color=\"red\")\n",
    "plt.xlabel('Latitude')\n",
    "plt.ylabel('Wind Speed (mph)')\n",
    "print(f\"The r-squared is: {rvalue**2}\")\n",
    "plt.tight_layout()\n",
    "plt.show()"
   ]
  },
  {
   "cell_type": "code",
   "execution_count": null,
   "metadata": {},
   "outputs": [],
   "source": []
  },
  {
   "cell_type": "code",
   "execution_count": null,
   "metadata": {},
   "outputs": [],
   "source": []
  },
  {
   "cell_type": "code",
   "execution_count": null,
   "metadata": {},
   "outputs": [],
   "source": []
  },
  {
   "cell_type": "code",
   "execution_count": null,
   "metadata": {},
   "outputs": [],
   "source": []
  }
 ],
 "metadata": {
  "anaconda-cloud": {},
  "kernel_info": {
   "name": "python3"
  },
  "kernelspec": {
   "display_name": "Python 3 (ipykernel)",
   "language": "python",
   "name": "python3"
  },
  "language_info": {
   "codemirror_mode": {
    "name": "ipython",
    "version": 3
   },
   "file_extension": ".py",
   "mimetype": "text/x-python",
   "name": "python",
   "nbconvert_exporter": "python",
   "pygments_lexer": "ipython3",
   "version": "3.9.7"
  },
  "latex_envs": {
   "LaTeX_envs_menu_present": true,
   "autoclose": false,
   "autocomplete": true,
   "bibliofile": "biblio.bib",
   "cite_by": "apalike",
   "current_citInitial": 1,
   "eqLabelWithNumbers": true,
   "eqNumInitial": 1,
   "hotkeys": {
    "equation": "Ctrl-E",
    "itemize": "Ctrl-I"
   },
   "labels_anchors": false,
   "latex_user_defs": false,
   "report_style_numbering": false,
   "user_envs_cfg": false
  },
  "nteract": {
   "version": "0.12.3"
  }
 },
 "nbformat": 4,
 "nbformat_minor": 2
}
